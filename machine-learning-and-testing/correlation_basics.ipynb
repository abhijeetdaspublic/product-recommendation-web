{
 "cells": [
  {
   "cell_type": "code",
   "execution_count": 7,
   "id": "97e22afe-4697-4cd6-a215-0e4c5bd8b1e4",
   "metadata": {},
   "outputs": [
    {
     "name": "stdout",
     "output_type": "stream",
     "text": [
      "          Duration     Pulse  Calories\n",
      "Duration  1.000000 -0.917663 -0.507551\n",
      "Pulse    -0.917663  1.000000  0.808134\n",
      "Calories -0.507551  0.808134  1.000000\n"
     ]
    }
   ],
   "source": [
    "import pandas as pd\n",
    "\n",
    "data = {\n",
    "  \"Duration\": [50, 40, 45],\n",
    "  \"Pulse\": [109, 117, 110],\n",
    "  \"Calories\": [409.1, 479.5, 340.8]\n",
    "}\n",
    "\n",
    "df = pd.DataFrame(data)\n",
    "\n",
    "print(df.corr())"
   ]
  },
  {
   "cell_type": "code",
   "execution_count": 6,
   "id": "930d1b9d-de13-4015-8ad2-51c861966260",
   "metadata": {},
   "outputs": [
    {
     "name": "stdout",
     "output_type": "stream",
     "text": [
      "          Duration     Pulse  Calories\n",
      "Duration  1.000000  1.000000  0.898513\n",
      "Pulse     1.000000  1.000000  0.898513\n",
      "Calories  0.898513  0.898513  1.000000\n"
     ]
    }
   ],
   "source": [
    "import pandas as pd\n",
    "\n",
    "data = {\n",
    "  \"Duration\": [1, 2, 3],\n",
    "  \"Pulse\": [4, 5, 6],\n",
    "  \"Calories\": [7, 8, 20]\n",
    "}\n",
    "\n",
    "df = pd.DataFrame(data)\n",
    "\n",
    "print(df.corr())"
   ]
  },
  {
   "cell_type": "code",
   "execution_count": 5,
   "id": "e30f1578-5ba8-430d-b347-bd1accfd2b0f",
   "metadata": {},
   "outputs": [
    {
     "name": "stdout",
     "output_type": "stream",
     "text": [
      "     Name  Age  Height  Weight\n",
      "0  Chetan   20     155      55\n",
      "1  yashas   25     160      60\n",
      "2  yuvraj   30     175      75\n",
      "             Age    Height    Weight\n",
      "Age     1.000000  0.960769  0.960769\n",
      "Height  0.960769  1.000000  1.000000\n",
      "Weight  0.960769  1.000000  1.000000\n"
     ]
    }
   ],
   "source": [
    "import pandas as pd\n",
    "chart = {'Name':['Chetan','yashas','yuvraj'],'Age':  [20,25,30],'Height': [155,160,175],'Weight': [55,60,75]}\n",
    "df = pd.DataFrame(chart)\n",
    "print(df)\n",
    "print(df.corr(method='pearson'))"
   ]
  },
  {
   "cell_type": "code",
   "execution_count": null,
   "id": "22e45946-49fa-4ed8-9409-a0da8d2ea4b4",
   "metadata": {},
   "outputs": [],
   "source": []
  }
 ],
 "metadata": {
  "kernelspec": {
   "display_name": "Python 3 (ipykernel)",
   "language": "python",
   "name": "python3"
  },
  "language_info": {
   "codemirror_mode": {
    "name": "ipython",
    "version": 3
   },
   "file_extension": ".py",
   "mimetype": "text/x-python",
   "name": "python",
   "nbconvert_exporter": "python",
   "pygments_lexer": "ipython3",
   "version": "3.10.4"
  }
 },
 "nbformat": 4,
 "nbformat_minor": 5
}
